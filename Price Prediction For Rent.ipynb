{
 "cells": [
  {
   "cell_type": "markdown",
   "id": "fd22bc8c",
   "metadata": {},
   "source": [
    "# Sao Paulo Real Estate - Rent"
   ]
  },
  {
   "cell_type": "markdown",
   "id": "4fa194e5",
   "metadata": {},
   "source": [
    "#### Importing our dataset"
   ]
  },
  {
   "cell_type": "code",
   "execution_count": 1,
   "id": "24e0956c",
   "metadata": {},
   "outputs": [],
   "source": [
    "import pandas as pd\n",
    "import numpy as np\n",
    "housing = pd.read_csv(\"dataset.csv\")"
   ]
  },
  {
   "cell_type": "code",
   "execution_count": 2,
   "id": "bffa2d74",
   "metadata": {},
   "outputs": [
    {
     "data": {
      "text/html": [
       "<div>\n",
       "<style scoped>\n",
       "    .dataframe tbody tr th:only-of-type {\n",
       "        vertical-align: middle;\n",
       "    }\n",
       "\n",
       "    .dataframe tbody tr th {\n",
       "        vertical-align: top;\n",
       "    }\n",
       "\n",
       "    .dataframe thead th {\n",
       "        text-align: right;\n",
       "    }\n",
       "</style>\n",
       "<table border=\"1\" class=\"dataframe\">\n",
       "  <thead>\n",
       "    <tr style=\"text-align: right;\">\n",
       "      <th></th>\n",
       "      <th>Condo</th>\n",
       "      <th>Size</th>\n",
       "      <th>Rooms</th>\n",
       "      <th>Toilets</th>\n",
       "      <th>Suites</th>\n",
       "      <th>Parking</th>\n",
       "      <th>Elevator</th>\n",
       "      <th>Furnished</th>\n",
       "      <th>Swimming Pool</th>\n",
       "      <th>New</th>\n",
       "      <th>District</th>\n",
       "      <th>Negotiation_Type</th>\n",
       "      <th>Property Type</th>\n",
       "      <th>Latitude</th>\n",
       "      <th>Longitude</th>\n",
       "      <th>Price</th>\n",
       "    </tr>\n",
       "  </thead>\n",
       "  <tbody>\n",
       "    <tr>\n",
       "      <th>0</th>\n",
       "      <td>220</td>\n",
       "      <td>47</td>\n",
       "      <td>2</td>\n",
       "      <td>2.0</td>\n",
       "      <td>1</td>\n",
       "      <td>1</td>\n",
       "      <td>0</td>\n",
       "      <td>0</td>\n",
       "      <td>0</td>\n",
       "      <td>0</td>\n",
       "      <td>Artur Alvim/São Paulo</td>\n",
       "      <td>rent</td>\n",
       "      <td>apartment</td>\n",
       "      <td>-23.543138</td>\n",
       "      <td>-46.479486</td>\n",
       "      <td>930</td>\n",
       "    </tr>\n",
       "    <tr>\n",
       "      <th>1</th>\n",
       "      <td>148</td>\n",
       "      <td>45</td>\n",
       "      <td>2</td>\n",
       "      <td>2.0</td>\n",
       "      <td>1</td>\n",
       "      <td>1</td>\n",
       "      <td>0</td>\n",
       "      <td>0</td>\n",
       "      <td>0</td>\n",
       "      <td>0</td>\n",
       "      <td>Artur Alvim/São Paulo</td>\n",
       "      <td>rent</td>\n",
       "      <td>apartment</td>\n",
       "      <td>-23.550239</td>\n",
       "      <td>-46.480718</td>\n",
       "      <td>1000</td>\n",
       "    </tr>\n",
       "    <tr>\n",
       "      <th>2</th>\n",
       "      <td>100</td>\n",
       "      <td>48</td>\n",
       "      <td>2</td>\n",
       "      <td>2.0</td>\n",
       "      <td>1</td>\n",
       "      <td>1</td>\n",
       "      <td>0</td>\n",
       "      <td>0</td>\n",
       "      <td>0</td>\n",
       "      <td>0</td>\n",
       "      <td>Artur Alvim/São Paulo</td>\n",
       "      <td>rent</td>\n",
       "      <td>apartment</td>\n",
       "      <td>-23.542818</td>\n",
       "      <td>-46.485665</td>\n",
       "      <td>1000</td>\n",
       "    </tr>\n",
       "    <tr>\n",
       "      <th>3</th>\n",
       "      <td>200</td>\n",
       "      <td>48</td>\n",
       "      <td>2</td>\n",
       "      <td>2.0</td>\n",
       "      <td>1</td>\n",
       "      <td>1</td>\n",
       "      <td>0</td>\n",
       "      <td>0</td>\n",
       "      <td>0</td>\n",
       "      <td>0</td>\n",
       "      <td>Artur Alvim/São Paulo</td>\n",
       "      <td>rent</td>\n",
       "      <td>apartment</td>\n",
       "      <td>-23.547171</td>\n",
       "      <td>-46.483014</td>\n",
       "      <td>1000</td>\n",
       "    </tr>\n",
       "    <tr>\n",
       "      <th>4</th>\n",
       "      <td>410</td>\n",
       "      <td>55</td>\n",
       "      <td>2</td>\n",
       "      <td>2.0</td>\n",
       "      <td>1</td>\n",
       "      <td>1</td>\n",
       "      <td>1</td>\n",
       "      <td>0</td>\n",
       "      <td>0</td>\n",
       "      <td>0</td>\n",
       "      <td>Artur Alvim/São Paulo</td>\n",
       "      <td>rent</td>\n",
       "      <td>apartment</td>\n",
       "      <td>-23.525025</td>\n",
       "      <td>-46.482436</td>\n",
       "      <td>1300</td>\n",
       "    </tr>\n",
       "  </tbody>\n",
       "</table>\n",
       "</div>"
      ],
      "text/plain": [
       "   Condo  Size  Rooms  Toilets  Suites  Parking  Elevator  Furnished  \\\n",
       "0    220    47      2      2.0       1        1         0          0   \n",
       "1    148    45      2      2.0       1        1         0          0   \n",
       "2    100    48      2      2.0       1        1         0          0   \n",
       "3    200    48      2      2.0       1        1         0          0   \n",
       "4    410    55      2      2.0       1        1         1          0   \n",
       "\n",
       "   Swimming Pool  New               District Negotiation_Type Property Type  \\\n",
       "0              0    0  Artur Alvim/São Paulo             rent     apartment   \n",
       "1              0    0  Artur Alvim/São Paulo             rent     apartment   \n",
       "2              0    0  Artur Alvim/São Paulo             rent     apartment   \n",
       "3              0    0  Artur Alvim/São Paulo             rent     apartment   \n",
       "4              0    0  Artur Alvim/São Paulo             rent     apartment   \n",
       "\n",
       "    Latitude  Longitude  Price  \n",
       "0 -23.543138 -46.479486    930  \n",
       "1 -23.550239 -46.480718   1000  \n",
       "2 -23.542818 -46.485665   1000  \n",
       "3 -23.547171 -46.483014   1000  \n",
       "4 -23.525025 -46.482436   1300  "
      ]
     },
     "execution_count": 2,
     "metadata": {},
     "output_type": "execute_result"
    }
   ],
   "source": [
    "housing.head()"
   ]
  },
  {
   "cell_type": "code",
   "execution_count": 3,
   "id": "259de109",
   "metadata": {},
   "outputs": [
    {
     "name": "stdout",
     "output_type": "stream",
     "text": [
      "<class 'pandas.core.frame.DataFrame'>\n",
      "RangeIndex: 13640 entries, 0 to 13639\n",
      "Data columns (total 16 columns):\n",
      " #   Column            Non-Null Count  Dtype  \n",
      "---  ------            --------------  -----  \n",
      " 0   Condo             13640 non-null  int64  \n",
      " 1   Size              13640 non-null  int64  \n",
      " 2   Rooms             13640 non-null  int64  \n",
      " 3   Toilets           13635 non-null  float64\n",
      " 4   Suites            13640 non-null  int64  \n",
      " 5   Parking           13640 non-null  int64  \n",
      " 6   Elevator          13640 non-null  int64  \n",
      " 7   Furnished         13640 non-null  int64  \n",
      " 8   Swimming Pool     13640 non-null  int64  \n",
      " 9   New               13640 non-null  int64  \n",
      " 10  District          13640 non-null  object \n",
      " 11  Negotiation_Type  13640 non-null  object \n",
      " 12  Property Type     13640 non-null  object \n",
      " 13  Latitude          13640 non-null  float64\n",
      " 14  Longitude         13640 non-null  float64\n",
      " 15  Price             13640 non-null  int64  \n",
      "dtypes: float64(3), int64(10), object(3)\n",
      "memory usage: 1.7+ MB\n"
     ]
    }
   ],
   "source": [
    "housing.info()"
   ]
  },
  {
   "cell_type": "code",
   "execution_count": 4,
   "id": "4954af2a",
   "metadata": {},
   "outputs": [
    {
     "data": {
      "text/plain": [
       "Condo                 int64\n",
       "Size                  int64\n",
       "Rooms                 int64\n",
       "Toilets             float64\n",
       "Suites                int64\n",
       "Parking               int64\n",
       "Elevator              int64\n",
       "Furnished             int64\n",
       "Swimming Pool         int64\n",
       "New                   int64\n",
       "District             object\n",
       "Negotiation_Type     object\n",
       "Property Type        object\n",
       "Latitude            float64\n",
       "Longitude           float64\n",
       "Price                 int64\n",
       "dtype: object"
      ]
     },
     "execution_count": 4,
     "metadata": {},
     "output_type": "execute_result"
    }
   ],
   "source": [
    "housing.dtypes"
   ]
  },
  {
   "cell_type": "markdown",
   "id": "e5e158b8",
   "metadata": {},
   "source": [
    "#### Cheaking for missing valus"
   ]
  },
  {
   "cell_type": "code",
   "execution_count": 5,
   "id": "b72067da",
   "metadata": {},
   "outputs": [
    {
     "data": {
      "text/plain": [
       "Condo               0\n",
       "Size                0\n",
       "Rooms               0\n",
       "Toilets             5\n",
       "Suites              0\n",
       "Parking             0\n",
       "Elevator            0\n",
       "Furnished           0\n",
       "Swimming Pool       0\n",
       "New                 0\n",
       "District            0\n",
       "Negotiation_Type    0\n",
       "Property Type       0\n",
       "Latitude            0\n",
       "Longitude           0\n",
       "Price               0\n",
       "dtype: int64"
      ]
     },
     "execution_count": 5,
     "metadata": {},
     "output_type": "execute_result"
    }
   ],
   "source": [
    "housing.isnull().sum()"
   ]
  },
  {
   "cell_type": "code",
   "execution_count": 6,
   "id": "55845e99",
   "metadata": {},
   "outputs": [
    {
     "data": {
      "text/plain": [
       "(13640, 16)"
      ]
     },
     "execution_count": 6,
     "metadata": {},
     "output_type": "execute_result"
    }
   ],
   "source": [
    "housing.shape"
   ]
  },
  {
   "cell_type": "markdown",
   "id": "62e1e6d2",
   "metadata": {},
   "source": [
    "#### Checking values for negotition types"
   ]
  },
  {
   "cell_type": "code",
   "execution_count": 7,
   "id": "ff4344fd",
   "metadata": {},
   "outputs": [
    {
     "data": {
      "text/plain": [
       "rent    7228\n",
       "sale    6412\n",
       "Name: Negotiation_Type, dtype: int64"
      ]
     },
     "execution_count": 7,
     "metadata": {},
     "output_type": "execute_result"
    }
   ],
   "source": [
    "housing['Negotiation_Type'].value_counts()"
   ]
  },
  {
   "cell_type": "markdown",
   "id": "31eb0f09",
   "metadata": {},
   "source": [
    "##### Spliting city from district"
   ]
  },
  {
   "cell_type": "code",
   "execution_count": 8,
   "id": "33a31efc",
   "metadata": {},
   "outputs": [],
   "source": [
    "housing[['District', 'City']] = housing['District'].str.split('/', expand= True)"
   ]
  },
  {
   "cell_type": "code",
   "execution_count": 9,
   "id": "6bedd4f2",
   "metadata": {},
   "outputs": [
    {
     "data": {
      "text/html": [
       "<div>\n",
       "<style scoped>\n",
       "    .dataframe tbody tr th:only-of-type {\n",
       "        vertical-align: middle;\n",
       "    }\n",
       "\n",
       "    .dataframe tbody tr th {\n",
       "        vertical-align: top;\n",
       "    }\n",
       "\n",
       "    .dataframe thead th {\n",
       "        text-align: right;\n",
       "    }\n",
       "</style>\n",
       "<table border=\"1\" class=\"dataframe\">\n",
       "  <thead>\n",
       "    <tr style=\"text-align: right;\">\n",
       "      <th></th>\n",
       "      <th>Condo</th>\n",
       "      <th>Size</th>\n",
       "      <th>Rooms</th>\n",
       "      <th>Toilets</th>\n",
       "      <th>Suites</th>\n",
       "      <th>Parking</th>\n",
       "      <th>Elevator</th>\n",
       "      <th>Furnished</th>\n",
       "      <th>Swimming Pool</th>\n",
       "      <th>New</th>\n",
       "      <th>District</th>\n",
       "      <th>Negotiation_Type</th>\n",
       "      <th>Property Type</th>\n",
       "      <th>Latitude</th>\n",
       "      <th>Longitude</th>\n",
       "      <th>Price</th>\n",
       "      <th>City</th>\n",
       "    </tr>\n",
       "  </thead>\n",
       "  <tbody>\n",
       "    <tr>\n",
       "      <th>0</th>\n",
       "      <td>220</td>\n",
       "      <td>47</td>\n",
       "      <td>2</td>\n",
       "      <td>2.0</td>\n",
       "      <td>1</td>\n",
       "      <td>1</td>\n",
       "      <td>0</td>\n",
       "      <td>0</td>\n",
       "      <td>0</td>\n",
       "      <td>0</td>\n",
       "      <td>Artur Alvim</td>\n",
       "      <td>rent</td>\n",
       "      <td>apartment</td>\n",
       "      <td>-23.543138</td>\n",
       "      <td>-46.479486</td>\n",
       "      <td>930</td>\n",
       "      <td>São Paulo</td>\n",
       "    </tr>\n",
       "    <tr>\n",
       "      <th>1</th>\n",
       "      <td>148</td>\n",
       "      <td>45</td>\n",
       "      <td>2</td>\n",
       "      <td>2.0</td>\n",
       "      <td>1</td>\n",
       "      <td>1</td>\n",
       "      <td>0</td>\n",
       "      <td>0</td>\n",
       "      <td>0</td>\n",
       "      <td>0</td>\n",
       "      <td>Artur Alvim</td>\n",
       "      <td>rent</td>\n",
       "      <td>apartment</td>\n",
       "      <td>-23.550239</td>\n",
       "      <td>-46.480718</td>\n",
       "      <td>1000</td>\n",
       "      <td>São Paulo</td>\n",
       "    </tr>\n",
       "    <tr>\n",
       "      <th>2</th>\n",
       "      <td>100</td>\n",
       "      <td>48</td>\n",
       "      <td>2</td>\n",
       "      <td>2.0</td>\n",
       "      <td>1</td>\n",
       "      <td>1</td>\n",
       "      <td>0</td>\n",
       "      <td>0</td>\n",
       "      <td>0</td>\n",
       "      <td>0</td>\n",
       "      <td>Artur Alvim</td>\n",
       "      <td>rent</td>\n",
       "      <td>apartment</td>\n",
       "      <td>-23.542818</td>\n",
       "      <td>-46.485665</td>\n",
       "      <td>1000</td>\n",
       "      <td>São Paulo</td>\n",
       "    </tr>\n",
       "    <tr>\n",
       "      <th>3</th>\n",
       "      <td>200</td>\n",
       "      <td>48</td>\n",
       "      <td>2</td>\n",
       "      <td>2.0</td>\n",
       "      <td>1</td>\n",
       "      <td>1</td>\n",
       "      <td>0</td>\n",
       "      <td>0</td>\n",
       "      <td>0</td>\n",
       "      <td>0</td>\n",
       "      <td>Artur Alvim</td>\n",
       "      <td>rent</td>\n",
       "      <td>apartment</td>\n",
       "      <td>-23.547171</td>\n",
       "      <td>-46.483014</td>\n",
       "      <td>1000</td>\n",
       "      <td>São Paulo</td>\n",
       "    </tr>\n",
       "    <tr>\n",
       "      <th>4</th>\n",
       "      <td>410</td>\n",
       "      <td>55</td>\n",
       "      <td>2</td>\n",
       "      <td>2.0</td>\n",
       "      <td>1</td>\n",
       "      <td>1</td>\n",
       "      <td>1</td>\n",
       "      <td>0</td>\n",
       "      <td>0</td>\n",
       "      <td>0</td>\n",
       "      <td>Artur Alvim</td>\n",
       "      <td>rent</td>\n",
       "      <td>apartment</td>\n",
       "      <td>-23.525025</td>\n",
       "      <td>-46.482436</td>\n",
       "      <td>1300</td>\n",
       "      <td>São Paulo</td>\n",
       "    </tr>\n",
       "  </tbody>\n",
       "</table>\n",
       "</div>"
      ],
      "text/plain": [
       "   Condo  Size  Rooms  Toilets  Suites  Parking  Elevator  Furnished  \\\n",
       "0    220    47      2      2.0       1        1         0          0   \n",
       "1    148    45      2      2.0       1        1         0          0   \n",
       "2    100    48      2      2.0       1        1         0          0   \n",
       "3    200    48      2      2.0       1        1         0          0   \n",
       "4    410    55      2      2.0       1        1         1          0   \n",
       "\n",
       "   Swimming Pool  New     District Negotiation_Type Property Type   Latitude  \\\n",
       "0              0    0  Artur Alvim             rent     apartment -23.543138   \n",
       "1              0    0  Artur Alvim             rent     apartment -23.550239   \n",
       "2              0    0  Artur Alvim             rent     apartment -23.542818   \n",
       "3              0    0  Artur Alvim             rent     apartment -23.547171   \n",
       "4              0    0  Artur Alvim             rent     apartment -23.525025   \n",
       "\n",
       "   Longitude  Price       City  \n",
       "0 -46.479486    930  São Paulo  \n",
       "1 -46.480718   1000  São Paulo  \n",
       "2 -46.485665   1000  São Paulo  \n",
       "3 -46.483014   1000  São Paulo  \n",
       "4 -46.482436   1300  São Paulo  "
      ]
     },
     "execution_count": 9,
     "metadata": {},
     "output_type": "execute_result"
    }
   ],
   "source": [
    "housing.head()"
   ]
  },
  {
   "cell_type": "code",
   "execution_count": 10,
   "id": "031f18d7",
   "metadata": {},
   "outputs": [
    {
     "data": {
      "text/html": [
       "<div>\n",
       "<style scoped>\n",
       "    .dataframe tbody tr th:only-of-type {\n",
       "        vertical-align: middle;\n",
       "    }\n",
       "\n",
       "    .dataframe tbody tr th {\n",
       "        vertical-align: top;\n",
       "    }\n",
       "\n",
       "    .dataframe thead th {\n",
       "        text-align: right;\n",
       "    }\n",
       "</style>\n",
       "<table border=\"1\" class=\"dataframe\">\n",
       "  <thead>\n",
       "    <tr style=\"text-align: right;\">\n",
       "      <th></th>\n",
       "      <th>Condo</th>\n",
       "      <th>Size</th>\n",
       "      <th>Rooms</th>\n",
       "      <th>Toilets</th>\n",
       "      <th>Suites</th>\n",
       "      <th>Parking</th>\n",
       "      <th>Elevator</th>\n",
       "      <th>Furnished</th>\n",
       "      <th>Swimming Pool</th>\n",
       "      <th>New</th>\n",
       "      <th>Latitude</th>\n",
       "      <th>Longitude</th>\n",
       "      <th>Price</th>\n",
       "    </tr>\n",
       "  </thead>\n",
       "  <tbody>\n",
       "    <tr>\n",
       "      <th>count</th>\n",
       "      <td>13640.000000</td>\n",
       "      <td>13640.000000</td>\n",
       "      <td>13640.000000</td>\n",
       "      <td>13635.000000</td>\n",
       "      <td>13640.000000</td>\n",
       "      <td>13640.000000</td>\n",
       "      <td>13640.000000</td>\n",
       "      <td>13640.000000</td>\n",
       "      <td>13640.00000</td>\n",
       "      <td>13640.000000</td>\n",
       "      <td>13640.000000</td>\n",
       "      <td>13640.000000</td>\n",
       "      <td>1.364000e+04</td>\n",
       "    </tr>\n",
       "    <tr>\n",
       "      <th>mean</th>\n",
       "      <td>689.882331</td>\n",
       "      <td>84.373900</td>\n",
       "      <td>2.312023</td>\n",
       "      <td>2.073707</td>\n",
       "      <td>0.980792</td>\n",
       "      <td>1.393182</td>\n",
       "      <td>0.354179</td>\n",
       "      <td>0.146774</td>\n",
       "      <td>0.51217</td>\n",
       "      <td>0.015616</td>\n",
       "      <td>-22.077047</td>\n",
       "      <td>-43.597088</td>\n",
       "      <td>2.877378e+05</td>\n",
       "    </tr>\n",
       "    <tr>\n",
       "      <th>std</th>\n",
       "      <td>757.649363</td>\n",
       "      <td>58.435676</td>\n",
       "      <td>0.777461</td>\n",
       "      <td>0.961902</td>\n",
       "      <td>0.834891</td>\n",
       "      <td>0.829932</td>\n",
       "      <td>0.478281</td>\n",
       "      <td>0.353894</td>\n",
       "      <td>0.49987</td>\n",
       "      <td>0.123988</td>\n",
       "      <td>5.866633</td>\n",
       "      <td>11.487288</td>\n",
       "      <td>5.908214e+05</td>\n",
       "    </tr>\n",
       "    <tr>\n",
       "      <th>min</th>\n",
       "      <td>0.000000</td>\n",
       "      <td>30.000000</td>\n",
       "      <td>1.000000</td>\n",
       "      <td>1.000000</td>\n",
       "      <td>0.000000</td>\n",
       "      <td>0.000000</td>\n",
       "      <td>0.000000</td>\n",
       "      <td>0.000000</td>\n",
       "      <td>0.00000</td>\n",
       "      <td>0.000000</td>\n",
       "      <td>-46.749039</td>\n",
       "      <td>-58.364352</td>\n",
       "      <td>4.800000e+02</td>\n",
       "    </tr>\n",
       "    <tr>\n",
       "      <th>25%</th>\n",
       "      <td>290.000000</td>\n",
       "      <td>50.000000</td>\n",
       "      <td>2.000000</td>\n",
       "      <td>2.000000</td>\n",
       "      <td>1.000000</td>\n",
       "      <td>1.000000</td>\n",
       "      <td>0.000000</td>\n",
       "      <td>0.000000</td>\n",
       "      <td>0.00000</td>\n",
       "      <td>0.000000</td>\n",
       "      <td>-23.594552</td>\n",
       "      <td>-46.681671</td>\n",
       "      <td>1.858750e+03</td>\n",
       "    </tr>\n",
       "    <tr>\n",
       "      <th>50%</th>\n",
       "      <td>500.000000</td>\n",
       "      <td>65.000000</td>\n",
       "      <td>2.000000</td>\n",
       "      <td>2.000000</td>\n",
       "      <td>1.000000</td>\n",
       "      <td>1.000000</td>\n",
       "      <td>0.000000</td>\n",
       "      <td>0.000000</td>\n",
       "      <td>1.00000</td>\n",
       "      <td>0.000000</td>\n",
       "      <td>-23.552813</td>\n",
       "      <td>-46.637255</td>\n",
       "      <td>8.100000e+03</td>\n",
       "    </tr>\n",
       "    <tr>\n",
       "      <th>75%</th>\n",
       "      <td>835.000000</td>\n",
       "      <td>94.000000</td>\n",
       "      <td>3.000000</td>\n",
       "      <td>2.000000</td>\n",
       "      <td>1.000000</td>\n",
       "      <td>2.000000</td>\n",
       "      <td>1.000000</td>\n",
       "      <td>0.000000</td>\n",
       "      <td>1.00000</td>\n",
       "      <td>0.000000</td>\n",
       "      <td>-23.517640</td>\n",
       "      <td>-46.560040</td>\n",
       "      <td>3.600000e+05</td>\n",
       "    </tr>\n",
       "    <tr>\n",
       "      <th>max</th>\n",
       "      <td>9500.000000</td>\n",
       "      <td>880.000000</td>\n",
       "      <td>10.000000</td>\n",
       "      <td>8.000000</td>\n",
       "      <td>6.000000</td>\n",
       "      <td>9.000000</td>\n",
       "      <td>1.000000</td>\n",
       "      <td>1.000000</td>\n",
       "      <td>1.00000</td>\n",
       "      <td>1.000000</td>\n",
       "      <td>0.000000</td>\n",
       "      <td>0.000000</td>\n",
       "      <td>1.000000e+07</td>\n",
       "    </tr>\n",
       "  </tbody>\n",
       "</table>\n",
       "</div>"
      ],
      "text/plain": [
       "              Condo          Size         Rooms       Toilets        Suites  \\\n",
       "count  13640.000000  13640.000000  13640.000000  13635.000000  13640.000000   \n",
       "mean     689.882331     84.373900      2.312023      2.073707      0.980792   \n",
       "std      757.649363     58.435676      0.777461      0.961902      0.834891   \n",
       "min        0.000000     30.000000      1.000000      1.000000      0.000000   \n",
       "25%      290.000000     50.000000      2.000000      2.000000      1.000000   \n",
       "50%      500.000000     65.000000      2.000000      2.000000      1.000000   \n",
       "75%      835.000000     94.000000      3.000000      2.000000      1.000000   \n",
       "max     9500.000000    880.000000     10.000000      8.000000      6.000000   \n",
       "\n",
       "            Parking      Elevator     Furnished  Swimming Pool           New  \\\n",
       "count  13640.000000  13640.000000  13640.000000    13640.00000  13640.000000   \n",
       "mean       1.393182      0.354179      0.146774        0.51217      0.015616   \n",
       "std        0.829932      0.478281      0.353894        0.49987      0.123988   \n",
       "min        0.000000      0.000000      0.000000        0.00000      0.000000   \n",
       "25%        1.000000      0.000000      0.000000        0.00000      0.000000   \n",
       "50%        1.000000      0.000000      0.000000        1.00000      0.000000   \n",
       "75%        2.000000      1.000000      0.000000        1.00000      0.000000   \n",
       "max        9.000000      1.000000      1.000000        1.00000      1.000000   \n",
       "\n",
       "           Latitude     Longitude         Price  \n",
       "count  13640.000000  13640.000000  1.364000e+04  \n",
       "mean     -22.077047    -43.597088  2.877378e+05  \n",
       "std        5.866633     11.487288  5.908214e+05  \n",
       "min      -46.749039    -58.364352  4.800000e+02  \n",
       "25%      -23.594552    -46.681671  1.858750e+03  \n",
       "50%      -23.552813    -46.637255  8.100000e+03  \n",
       "75%      -23.517640    -46.560040  3.600000e+05  \n",
       "max        0.000000      0.000000  1.000000e+07  "
      ]
     },
     "execution_count": 10,
     "metadata": {},
     "output_type": "execute_result"
    }
   ],
   "source": [
    "housing.describe()"
   ]
  },
  {
   "cell_type": "code",
   "execution_count": 11,
   "id": "113e85ec",
   "metadata": {},
   "outputs": [
    {
     "data": {
      "text/html": [
       "<div>\n",
       "<style scoped>\n",
       "    .dataframe tbody tr th:only-of-type {\n",
       "        vertical-align: middle;\n",
       "    }\n",
       "\n",
       "    .dataframe tbody tr th {\n",
       "        vertical-align: top;\n",
       "    }\n",
       "\n",
       "    .dataframe thead th {\n",
       "        text-align: right;\n",
       "    }\n",
       "</style>\n",
       "<table border=\"1\" class=\"dataframe\">\n",
       "  <thead>\n",
       "    <tr style=\"text-align: right;\">\n",
       "      <th></th>\n",
       "      <th>Condo</th>\n",
       "      <th>Size</th>\n",
       "      <th>Rooms</th>\n",
       "      <th>Toilets</th>\n",
       "      <th>Suites</th>\n",
       "      <th>Parking</th>\n",
       "      <th>Elevator</th>\n",
       "      <th>Furnished</th>\n",
       "      <th>Swimming Pool</th>\n",
       "      <th>New</th>\n",
       "      <th>District</th>\n",
       "      <th>Negotiation_Type</th>\n",
       "      <th>Latitude</th>\n",
       "      <th>Longitude</th>\n",
       "      <th>Price</th>\n",
       "    </tr>\n",
       "  </thead>\n",
       "  <tbody>\n",
       "    <tr>\n",
       "      <th>0</th>\n",
       "      <td>220</td>\n",
       "      <td>47</td>\n",
       "      <td>2</td>\n",
       "      <td>2.0</td>\n",
       "      <td>1</td>\n",
       "      <td>1</td>\n",
       "      <td>0</td>\n",
       "      <td>0</td>\n",
       "      <td>0</td>\n",
       "      <td>0</td>\n",
       "      <td>Artur Alvim</td>\n",
       "      <td>rent</td>\n",
       "      <td>-23.543138</td>\n",
       "      <td>-46.479486</td>\n",
       "      <td>930</td>\n",
       "    </tr>\n",
       "    <tr>\n",
       "      <th>1</th>\n",
       "      <td>148</td>\n",
       "      <td>45</td>\n",
       "      <td>2</td>\n",
       "      <td>2.0</td>\n",
       "      <td>1</td>\n",
       "      <td>1</td>\n",
       "      <td>0</td>\n",
       "      <td>0</td>\n",
       "      <td>0</td>\n",
       "      <td>0</td>\n",
       "      <td>Artur Alvim</td>\n",
       "      <td>rent</td>\n",
       "      <td>-23.550239</td>\n",
       "      <td>-46.480718</td>\n",
       "      <td>1000</td>\n",
       "    </tr>\n",
       "    <tr>\n",
       "      <th>2</th>\n",
       "      <td>100</td>\n",
       "      <td>48</td>\n",
       "      <td>2</td>\n",
       "      <td>2.0</td>\n",
       "      <td>1</td>\n",
       "      <td>1</td>\n",
       "      <td>0</td>\n",
       "      <td>0</td>\n",
       "      <td>0</td>\n",
       "      <td>0</td>\n",
       "      <td>Artur Alvim</td>\n",
       "      <td>rent</td>\n",
       "      <td>-23.542818</td>\n",
       "      <td>-46.485665</td>\n",
       "      <td>1000</td>\n",
       "    </tr>\n",
       "    <tr>\n",
       "      <th>3</th>\n",
       "      <td>200</td>\n",
       "      <td>48</td>\n",
       "      <td>2</td>\n",
       "      <td>2.0</td>\n",
       "      <td>1</td>\n",
       "      <td>1</td>\n",
       "      <td>0</td>\n",
       "      <td>0</td>\n",
       "      <td>0</td>\n",
       "      <td>0</td>\n",
       "      <td>Artur Alvim</td>\n",
       "      <td>rent</td>\n",
       "      <td>-23.547171</td>\n",
       "      <td>-46.483014</td>\n",
       "      <td>1000</td>\n",
       "    </tr>\n",
       "    <tr>\n",
       "      <th>4</th>\n",
       "      <td>410</td>\n",
       "      <td>55</td>\n",
       "      <td>2</td>\n",
       "      <td>2.0</td>\n",
       "      <td>1</td>\n",
       "      <td>1</td>\n",
       "      <td>1</td>\n",
       "      <td>0</td>\n",
       "      <td>0</td>\n",
       "      <td>0</td>\n",
       "      <td>Artur Alvim</td>\n",
       "      <td>rent</td>\n",
       "      <td>-23.525025</td>\n",
       "      <td>-46.482436</td>\n",
       "      <td>1300</td>\n",
       "    </tr>\n",
       "  </tbody>\n",
       "</table>\n",
       "</div>"
      ],
      "text/plain": [
       "   Condo  Size  Rooms  Toilets  Suites  Parking  Elevator  Furnished  \\\n",
       "0    220    47      2      2.0       1        1         0          0   \n",
       "1    148    45      2      2.0       1        1         0          0   \n",
       "2    100    48      2      2.0       1        1         0          0   \n",
       "3    200    48      2      2.0       1        1         0          0   \n",
       "4    410    55      2      2.0       1        1         1          0   \n",
       "\n",
       "   Swimming Pool  New     District Negotiation_Type   Latitude  Longitude  \\\n",
       "0              0    0  Artur Alvim             rent -23.543138 -46.479486   \n",
       "1              0    0  Artur Alvim             rent -23.550239 -46.480718   \n",
       "2              0    0  Artur Alvim             rent -23.542818 -46.485665   \n",
       "3              0    0  Artur Alvim             rent -23.547171 -46.483014   \n",
       "4              0    0  Artur Alvim             rent -23.525025 -46.482436   \n",
       "\n",
       "   Price  \n",
       "0    930  \n",
       "1   1000  \n",
       "2   1000  \n",
       "3   1000  \n",
       "4   1300  "
      ]
     },
     "execution_count": 11,
     "metadata": {},
     "output_type": "execute_result"
    }
   ],
   "source": [
    "ab = ['City', 'Property Type']\n",
    "housing.drop(ab, axis=1, inplace=True)\n",
    "housing.head()"
   ]
  },
  {
   "cell_type": "markdown",
   "id": "4a829a46",
   "metadata": {},
   "source": [
    "#### Ploting apartment number for sale or rent"
   ]
  },
  {
   "cell_type": "code",
   "execution_count": 12,
   "id": "865ea432",
   "metadata": {},
   "outputs": [],
   "source": [
    "%matplotlib inline\n",
    "import matplotlib.pyplot as plt\n",
    "import seaborn as sns"
   ]
  },
  {
   "cell_type": "code",
   "execution_count": 13,
   "id": "a28cd1ea",
   "metadata": {},
   "outputs": [
    {
     "data": {
      "text/plain": [
       "Text(0.5, 0, 'Status')"
      ]
     },
     "execution_count": 13,
     "metadata": {},
     "output_type": "execute_result"
    },
    {
     "data": {
      "image/png": "[encoded data removed]",
      "text/plain": [
       "<Figure size 360x288 with 1 Axes>"
      ]
     },
     "metadata": {
      "needs_background": "light"
     },
     "output_type": "display_data"
    }
   ],
   "source": [
    "plt.figure(figsize = (5, 4))\n",
    "ax = sns.countplot(x = 'Negotiation_Type', data= housing, alpha= 0.8)\n",
    "ax.set_ylabel('Number of apartments', fontsize= 16)\n",
    "ax.set_xlabel('Status', fontsize= 16)"
   ]
  },
  {
   "cell_type": "markdown",
   "id": "ee40f31d",
   "metadata": {},
   "source": [
    "#### Spliting rent data from the main dataset"
   ]
  },
  {
   "cell_type": "code",
   "execution_count": 14,
   "id": "12ae9839",
   "metadata": {},
   "outputs": [
    {
     "data": {
      "text/html": [
       "<div>\n",
       "<style scoped>\n",
       "    .dataframe tbody tr th:only-of-type {\n",
       "        vertical-align: middle;\n",
       "    }\n",
       "\n",
       "    .dataframe tbody tr th {\n",
       "        vertical-align: top;\n",
       "    }\n",
       "\n",
       "    .dataframe thead th {\n",
       "        text-align: right;\n",
       "    }\n",
       "</style>\n",
       "<table border=\"1\" class=\"dataframe\">\n",
       "  <thead>\n",
       "    <tr style=\"text-align: right;\">\n",
       "      <th></th>\n",
       "      <th>Condo</th>\n",
       "      <th>Size</th>\n",
       "      <th>Rooms</th>\n",
       "      <th>Toilets</th>\n",
       "      <th>Suites</th>\n",
       "      <th>Parking</th>\n",
       "      <th>Elevator</th>\n",
       "      <th>Furnished</th>\n",
       "      <th>Swimming Pool</th>\n",
       "      <th>New</th>\n",
       "      <th>District</th>\n",
       "      <th>Negotiation_Type</th>\n",
       "      <th>Latitude</th>\n",
       "      <th>Longitude</th>\n",
       "      <th>Price</th>\n",
       "    </tr>\n",
       "  </thead>\n",
       "  <tbody>\n",
       "    <tr>\n",
       "      <th>0</th>\n",
       "      <td>220</td>\n",
       "      <td>47</td>\n",
       "      <td>2</td>\n",
       "      <td>2.0</td>\n",
       "      <td>1</td>\n",
       "      <td>1</td>\n",
       "      <td>0</td>\n",
       "      <td>0</td>\n",
       "      <td>0</td>\n",
       "      <td>0</td>\n",
       "      <td>Artur Alvim</td>\n",
       "      <td>rent</td>\n",
       "      <td>-23.543138</td>\n",
       "      <td>-46.479486</td>\n",
       "      <td>930</td>\n",
       "    </tr>\n",
       "    <tr>\n",
       "      <th>1</th>\n",
       "      <td>148</td>\n",
       "      <td>45</td>\n",
       "      <td>2</td>\n",
       "      <td>2.0</td>\n",
       "      <td>1</td>\n",
       "      <td>1</td>\n",
       "      <td>0</td>\n",
       "      <td>0</td>\n",
       "      <td>0</td>\n",
       "      <td>0</td>\n",
       "      <td>Artur Alvim</td>\n",
       "      <td>rent</td>\n",
       "      <td>-23.550239</td>\n",
       "      <td>-46.480718</td>\n",
       "      <td>1000</td>\n",
       "    </tr>\n",
       "    <tr>\n",
       "      <th>2</th>\n",
       "      <td>100</td>\n",
       "      <td>48</td>\n",
       "      <td>2</td>\n",
       "      <td>2.0</td>\n",
       "      <td>1</td>\n",
       "      <td>1</td>\n",
       "      <td>0</td>\n",
       "      <td>0</td>\n",
       "      <td>0</td>\n",
       "      <td>0</td>\n",
       "      <td>Artur Alvim</td>\n",
       "      <td>rent</td>\n",
       "      <td>-23.542818</td>\n",
       "      <td>-46.485665</td>\n",
       "      <td>1000</td>\n",
       "    </tr>\n",
       "    <tr>\n",
       "      <th>3</th>\n",
       "      <td>200</td>\n",
       "      <td>48</td>\n",
       "      <td>2</td>\n",
       "      <td>2.0</td>\n",
       "      <td>1</td>\n",
       "      <td>1</td>\n",
       "      <td>0</td>\n",
       "      <td>0</td>\n",
       "      <td>0</td>\n",
       "      <td>0</td>\n",
       "      <td>Artur Alvim</td>\n",
       "      <td>rent</td>\n",
       "      <td>-23.547171</td>\n",
       "      <td>-46.483014</td>\n",
       "      <td>1000</td>\n",
       "    </tr>\n",
       "    <tr>\n",
       "      <th>4</th>\n",
       "      <td>410</td>\n",
       "      <td>55</td>\n",
       "      <td>2</td>\n",
       "      <td>2.0</td>\n",
       "      <td>1</td>\n",
       "      <td>1</td>\n",
       "      <td>1</td>\n",
       "      <td>0</td>\n",
       "      <td>0</td>\n",
       "      <td>0</td>\n",
       "      <td>Artur Alvim</td>\n",
       "      <td>rent</td>\n",
       "      <td>-23.525025</td>\n",
       "      <td>-46.482436</td>\n",
       "      <td>1300</td>\n",
       "    </tr>\n",
       "  </tbody>\n",
       "</table>\n",
       "</div>"
      ],
      "text/plain": [
       "   Condo  Size  Rooms  Toilets  Suites  Parking  Elevator  Furnished  \\\n",
       "0    220    47      2      2.0       1        1         0          0   \n",
       "1    148    45      2      2.0       1        1         0          0   \n",
       "2    100    48      2      2.0       1        1         0          0   \n",
       "3    200    48      2      2.0       1        1         0          0   \n",
       "4    410    55      2      2.0       1        1         1          0   \n",
       "\n",
       "   Swimming Pool  New     District Negotiation_Type   Latitude  Longitude  \\\n",
       "0              0    0  Artur Alvim             rent -23.543138 -46.479486   \n",
       "1              0    0  Artur Alvim             rent -23.550239 -46.480718   \n",
       "2              0    0  Artur Alvim             rent -23.542818 -46.485665   \n",
       "3              0    0  Artur Alvim             rent -23.547171 -46.483014   \n",
       "4              0    0  Artur Alvim             rent -23.525025 -46.482436   \n",
       "\n",
       "   Price  \n",
       "0    930  \n",
       "1   1000  \n",
       "2   1000  \n",
       "3   1000  \n",
       "4   1300  "
      ]
     },
     "execution_count": 14,
     "metadata": {},
     "output_type": "execute_result"
    }
   ],
   "source": [
    "housing_rent = housing[housing['Negotiation_Type'] == 'rent']\n",
    "\n",
    "housing_rent.head()"
   ]
  },
  {
   "cell_type": "code",
   "execution_count": 15,
   "id": "5a479c0a",
   "metadata": {},
   "outputs": [
    {
     "data": {
      "text/plain": [
       "(7228, 15)"
      ]
     },
     "execution_count": 15,
     "metadata": {},
     "output_type": "execute_result"
    }
   ],
   "source": [
    "housing_rent.shape"
   ]
  },
  {
   "cell_type": "code",
   "execution_count": 16,
   "id": "d5055edd",
   "metadata": {},
   "outputs": [
    {
     "data": {
      "text/html": [
       "<div>\n",
       "<style scoped>\n",
       "    .dataframe tbody tr th:only-of-type {\n",
       "        vertical-align: middle;\n",
       "    }\n",
       "\n",
       "    .dataframe tbody tr th {\n",
       "        vertical-align: top;\n",
       "    }\n",
       "\n",
       "    .dataframe thead th {\n",
       "        text-align: right;\n",
       "    }\n",
       "</style>\n",
       "<table border=\"1\" class=\"dataframe\">\n",
       "  <thead>\n",
       "    <tr style=\"text-align: right;\">\n",
       "      <th></th>\n",
       "      <th>Condo</th>\n",
       "      <th>Size</th>\n",
       "      <th>Rooms</th>\n",
       "      <th>Toilets</th>\n",
       "      <th>Suites</th>\n",
       "      <th>Parking</th>\n",
       "      <th>Elevator</th>\n",
       "      <th>Furnished</th>\n",
       "      <th>Swimming Pool</th>\n",
       "      <th>New</th>\n",
       "      <th>Latitude</th>\n",
       "      <th>Longitude</th>\n",
       "      <th>Price</th>\n",
       "    </tr>\n",
       "  </thead>\n",
       "  <tbody>\n",
       "    <tr>\n",
       "      <th>count</th>\n",
       "      <td>7228.000000</td>\n",
       "      <td>7228.000000</td>\n",
       "      <td>7228.000000</td>\n",
       "      <td>7223.000000</td>\n",
       "      <td>7228.000000</td>\n",
       "      <td>7228.000000</td>\n",
       "      <td>7228.000000</td>\n",
       "      <td>7228.000000</td>\n",
       "      <td>7228.000000</td>\n",
       "      <td>7228.000000</td>\n",
       "      <td>7228.000000</td>\n",
       "      <td>7228.000000</td>\n",
       "      <td>7228.000000</td>\n",
       "    </tr>\n",
       "    <tr>\n",
       "      <th>mean</th>\n",
       "      <td>825.194798</td>\n",
       "      <td>89.486165</td>\n",
       "      <td>2.304234</td>\n",
       "      <td>2.105635</td>\n",
       "      <td>1.024488</td>\n",
       "      <td>1.452269</td>\n",
       "      <td>0.299806</td>\n",
       "      <td>0.172939</td>\n",
       "      <td>0.487963</td>\n",
       "      <td>0.000830</td>\n",
       "      <td>-22.032278</td>\n",
       "      <td>-43.500873</td>\n",
       "      <td>3077.669065</td>\n",
       "    </tr>\n",
       "    <tr>\n",
       "      <th>std</th>\n",
       "      <td>835.621937</td>\n",
       "      <td>63.976416</td>\n",
       "      <td>0.829108</td>\n",
       "      <td>0.998365</td>\n",
       "      <td>0.884241</td>\n",
       "      <td>0.889535</td>\n",
       "      <td>0.458205</td>\n",
       "      <td>0.378220</td>\n",
       "      <td>0.499890</td>\n",
       "      <td>0.028802</td>\n",
       "      <td>5.962534</td>\n",
       "      <td>11.675070</td>\n",
       "      <td>3522.830284</td>\n",
       "    </tr>\n",
       "    <tr>\n",
       "      <th>min</th>\n",
       "      <td>0.000000</td>\n",
       "      <td>30.000000</td>\n",
       "      <td>1.000000</td>\n",
       "      <td>1.000000</td>\n",
       "      <td>0.000000</td>\n",
       "      <td>0.000000</td>\n",
       "      <td>0.000000</td>\n",
       "      <td>0.000000</td>\n",
       "      <td>0.000000</td>\n",
       "      <td>0.000000</td>\n",
       "      <td>-46.749039</td>\n",
       "      <td>-58.364352</td>\n",
       "      <td>480.000000</td>\n",
       "    </tr>\n",
       "    <tr>\n",
       "      <th>25%</th>\n",
       "      <td>395.750000</td>\n",
       "      <td>52.000000</td>\n",
       "      <td>2.000000</td>\n",
       "      <td>2.000000</td>\n",
       "      <td>1.000000</td>\n",
       "      <td>1.000000</td>\n",
       "      <td>0.000000</td>\n",
       "      <td>0.000000</td>\n",
       "      <td>0.000000</td>\n",
       "      <td>0.000000</td>\n",
       "      <td>-23.598066</td>\n",
       "      <td>-46.689788</td>\n",
       "      <td>1350.000000</td>\n",
       "    </tr>\n",
       "    <tr>\n",
       "      <th>50%</th>\n",
       "      <td>595.000000</td>\n",
       "      <td>67.000000</td>\n",
       "      <td>2.000000</td>\n",
       "      <td>2.000000</td>\n",
       "      <td>1.000000</td>\n",
       "      <td>1.000000</td>\n",
       "      <td>0.000000</td>\n",
       "      <td>0.000000</td>\n",
       "      <td>0.000000</td>\n",
       "      <td>0.000000</td>\n",
       "      <td>-23.555869</td>\n",
       "      <td>-46.644793</td>\n",
       "      <td>2000.000000</td>\n",
       "    </tr>\n",
       "    <tr>\n",
       "      <th>75%</th>\n",
       "      <td>990.000000</td>\n",
       "      <td>100.000000</td>\n",
       "      <td>3.000000</td>\n",
       "      <td>2.000000</td>\n",
       "      <td>1.000000</td>\n",
       "      <td>2.000000</td>\n",
       "      <td>1.000000</td>\n",
       "      <td>0.000000</td>\n",
       "      <td>1.000000</td>\n",
       "      <td>0.000000</td>\n",
       "      <td>-23.522756</td>\n",
       "      <td>-46.585110</td>\n",
       "      <td>3300.000000</td>\n",
       "    </tr>\n",
       "    <tr>\n",
       "      <th>max</th>\n",
       "      <td>9500.000000</td>\n",
       "      <td>880.000000</td>\n",
       "      <td>10.000000</td>\n",
       "      <td>8.000000</td>\n",
       "      <td>5.000000</td>\n",
       "      <td>9.000000</td>\n",
       "      <td>1.000000</td>\n",
       "      <td>1.000000</td>\n",
       "      <td>1.000000</td>\n",
       "      <td>1.000000</td>\n",
       "      <td>0.000000</td>\n",
       "      <td>0.000000</td>\n",
       "      <td>50000.000000</td>\n",
       "    </tr>\n",
       "  </tbody>\n",
       "</table>\n",
       "</div>"
      ],
      "text/plain": [
       "             Condo         Size        Rooms      Toilets       Suites  \\\n",
       "count  7228.000000  7228.000000  7228.000000  7223.000000  7228.000000   \n",
       "mean    825.194798    89.486165     2.304234     2.105635     1.024488   \n",
       "std     835.621937    63.976416     0.829108     0.998365     0.884241   \n",
       "min       0.000000    30.000000     1.000000     1.000000     0.000000   \n",
       "25%     395.750000    52.000000     2.000000     2.000000     1.000000   \n",
       "50%     595.000000    67.000000     2.000000     2.000000     1.000000   \n",
       "75%     990.000000   100.000000     3.000000     2.000000     1.000000   \n",
       "max    9500.000000   880.000000    10.000000     8.000000     5.000000   \n",
       "\n",
       "           Parking     Elevator    Furnished  Swimming Pool          New  \\\n",
       "count  7228.000000  7228.000000  7228.000000    7228.000000  7228.000000   \n",
       "mean      1.452269     0.299806     0.172939       0.487963     0.000830   \n",
       "std       0.889535     0.458205     0.378220       0.499890     0.028802   \n",
       "min       0.000000     0.000000     0.000000       0.000000     0.000000   \n",
       "25%       1.000000     0.000000     0.000000       0.000000     0.000000   \n",
       "50%       1.000000     0.000000     0.000000       0.000000     0.000000   \n",
       "75%       2.000000     1.000000     0.000000       1.000000     0.000000   \n",
       "max       9.000000     1.000000     1.000000       1.000000     1.000000   \n",
       "\n",
       "          Latitude    Longitude         Price  \n",
       "count  7228.000000  7228.000000   7228.000000  \n",
       "mean    -22.032278   -43.500873   3077.669065  \n",
       "std       5.962534    11.675070   3522.830284  \n",
       "min     -46.749039   -58.364352    480.000000  \n",
       "25%     -23.598066   -46.689788   1350.000000  \n",
       "50%     -23.555869   -46.644793   2000.000000  \n",
       "75%     -23.522756   -46.585110   3300.000000  \n",
       "max       0.000000     0.000000  50000.000000  "
      ]
     },
     "execution_count": 16,
     "metadata": {},
     "output_type": "execute_result"
    }
   ],
   "source": [
    "housing_rent.describe()"
   ]
  },
  {
   "cell_type": "code",
   "execution_count": 17,
   "id": "d6914b72",
   "metadata": {},
   "outputs": [
    {
     "data": {
      "text/plain": [
       "Index(['Condo', 'Size', 'Rooms', 'Toilets', 'Suites', 'Parking', 'Elevator',\n",
       "       'Furnished', 'Swimming Pool', 'New', 'District', 'Negotiation_Type',\n",
       "       'Latitude', 'Longitude', 'Price'],\n",
       "      dtype='object')"
      ]
     },
     "execution_count": 17,
     "metadata": {},
     "output_type": "execute_result"
    }
   ],
   "source": [
    "housing_rent.keys()"
   ]
  },
  {
   "cell_type": "markdown",
   "id": "5dc7b6c9",
   "metadata": {},
   "source": [
    "#### Converting array to data fream"
   ]
  },
  {
   "cell_type": "code",
   "execution_count": 18,
   "id": "e96431ee",
   "metadata": {},
   "outputs": [],
   "source": [
    "housing = pd.DataFrame(housing_rent, columns= housing_rent.keys())"
   ]
  },
  {
   "cell_type": "markdown",
   "id": "6026d919",
   "metadata": {},
   "source": [
    "#### Droping Unnecessary Attributs"
   ]
  },
  {
   "cell_type": "code",
   "execution_count": 19,
   "id": "411f10b7",
   "metadata": {},
   "outputs": [],
   "source": [
    "att = ['District', 'Negotiation_Type', 'Latitude', 'Longitude']\n",
    "\n",
    "housing.drop(att, axis=1, inplace= True)"
   ]
  },
  {
   "cell_type": "code",
   "execution_count": 20,
   "id": "558a384f",
   "metadata": {},
   "outputs": [
    {
     "data": {
      "text/html": [
       "<div>\n",
       "<style scoped>\n",
       "    .dataframe tbody tr th:only-of-type {\n",
       "        vertical-align: middle;\n",
       "    }\n",
       "\n",
       "    .dataframe tbody tr th {\n",
       "        vertical-align: top;\n",
       "    }\n",
       "\n",
       "    .dataframe thead th {\n",
       "        text-align: right;\n",
       "    }\n",
       "</style>\n",
       "<table border=\"1\" class=\"dataframe\">\n",
       "  <thead>\n",
       "    <tr style=\"text-align: right;\">\n",
       "      <th></th>\n",
       "      <th>Condo</th>\n",
       "      <th>Size</th>\n",
       "      <th>Rooms</th>\n",
       "      <th>Toilets</th>\n",
       "      <th>Suites</th>\n",
       "      <th>Parking</th>\n",
       "      <th>Elevator</th>\n",
       "      <th>Furnished</th>\n",
       "      <th>Swimming Pool</th>\n",
       "      <th>New</th>\n",
       "      <th>Price</th>\n",
       "    </tr>\n",
       "  </thead>\n",
       "  <tbody>\n",
       "    <tr>\n",
       "      <th>0</th>\n",
       "      <td>220</td>\n",
       "      <td>47</td>\n",
       "      <td>2</td>\n",
       "      <td>2.0</td>\n",
       "      <td>1</td>\n",
       "      <td>1</td>\n",
       "      <td>0</td>\n",
       "      <td>0</td>\n",
       "      <td>0</td>\n",
       "      <td>0</td>\n",
       "      <td>930</td>\n",
       "    </tr>\n",
       "    <tr>\n",
       "      <th>1</th>\n",
       "      <td>148</td>\n",
       "      <td>45</td>\n",
       "      <td>2</td>\n",
       "      <td>2.0</td>\n",
       "      <td>1</td>\n",
       "      <td>1</td>\n",
       "      <td>0</td>\n",
       "      <td>0</td>\n",
       "      <td>0</td>\n",
       "      <td>0</td>\n",
       "      <td>1000</td>\n",
       "    </tr>\n",
       "    <tr>\n",
       "      <th>2</th>\n",
       "      <td>100</td>\n",
       "      <td>48</td>\n",
       "      <td>2</td>\n",
       "      <td>2.0</td>\n",
       "      <td>1</td>\n",
       "      <td>1</td>\n",
       "      <td>0</td>\n",
       "      <td>0</td>\n",
       "      <td>0</td>\n",
       "      <td>0</td>\n",
       "      <td>1000</td>\n",
       "    </tr>\n",
       "    <tr>\n",
       "      <th>3</th>\n",
       "      <td>200</td>\n",
       "      <td>48</td>\n",
       "      <td>2</td>\n",
       "      <td>2.0</td>\n",
       "      <td>1</td>\n",
       "      <td>1</td>\n",
       "      <td>0</td>\n",
       "      <td>0</td>\n",
       "      <td>0</td>\n",
       "      <td>0</td>\n",
       "      <td>1000</td>\n",
       "    </tr>\n",
       "    <tr>\n",
       "      <th>4</th>\n",
       "      <td>410</td>\n",
       "      <td>55</td>\n",
       "      <td>2</td>\n",
       "      <td>2.0</td>\n",
       "      <td>1</td>\n",
       "      <td>1</td>\n",
       "      <td>1</td>\n",
       "      <td>0</td>\n",
       "      <td>0</td>\n",
       "      <td>0</td>\n",
       "      <td>1300</td>\n",
       "    </tr>\n",
       "  </tbody>\n",
       "</table>\n",
       "</div>"
      ],
      "text/plain": [
       "   Condo  Size  Rooms  Toilets  Suites  Parking  Elevator  Furnished  \\\n",
       "0    220    47      2      2.0       1        1         0          0   \n",
       "1    148    45      2      2.0       1        1         0          0   \n",
       "2    100    48      2      2.0       1        1         0          0   \n",
       "3    200    48      2      2.0       1        1         0          0   \n",
       "4    410    55      2      2.0       1        1         1          0   \n",
       "\n",
       "   Swimming Pool  New  Price  \n",
       "0              0    0    930  \n",
       "1              0    0   1000  \n",
       "2              0    0   1000  \n",
       "3              0    0   1000  \n",
       "4              0    0   1300  "
      ]
     },
     "execution_count": 20,
     "metadata": {},
     "output_type": "execute_result"
    }
   ],
   "source": [
    "housing.head()"
   ]
  },
  {
   "cell_type": "markdown",
   "id": "417a39dc",
   "metadata": {},
   "source": [
    "#### Ploting rent data"
   ]
  },
  {
   "cell_type": "code",
   "execution_count": 21,
   "id": "259d1974",
   "metadata": {},
   "outputs": [
    {
     "data": {
      "text/plain": [
       "array([[<AxesSubplot:title={'center':'Condo'}>,\n",
       "        <AxesSubplot:title={'center':'Size'}>,\n",
       "        <AxesSubplot:title={'center':'Rooms'}>],\n",
       "       [<AxesSubplot:title={'center':'Toilets'}>,\n",
       "        <AxesSubplot:title={'center':'Suites'}>,\n",
       "        <AxesSubplot:title={'center':'Parking'}>],\n",
       "       [<AxesSubplot:title={'center':'Elevator'}>,\n",
       "        <AxesSubplot:title={'center':'Furnished'}>,\n",
       "        <AxesSubplot:title={'center':'Swimming Pool'}>],\n",
       "       [<AxesSubplot:title={'center':'New'}>,\n",
       "        <AxesSubplot:title={'center':'Price'}>, <AxesSubplot:>]],\n",
       "      dtype=object)"
      ]
     },
     "execution_count": 21,
     "metadata": {},
     "output_type": "execute_result"
    },
    {
     "data": {
      "image/png": "[encoded data removed]",
      "text/plain": [
       "<Figure size 1440x1080 with 12 Axes>"
      ]
     },
     "metadata": {
      "needs_background": "light"
     },
     "output_type": "display_data"
    }
   ],
   "source": [
    "housing.hist(bins= 50, figsize= (20, 15))"
   ]
  },
  {
   "cell_type": "markdown",
   "id": "5e627bef",
   "metadata": {},
   "source": [
    "#### Train-Test Spliting\n",
    "Spliting Mannualy"
   ]
  },
  {
   "cell_type": "code",
   "execution_count": 22,
   "id": "d215c688",
   "metadata": {},
   "outputs": [],
   "source": [
    "def split_train_test(data, test_ratio):\n",
    "    np.random.seed(0)\n",
    "    shuffled = np.random.permutation(len(data))\n",
    "#    print(shuffled)\n",
    "    test_set_size = int(len(data) * test_ratio)\n",
    "    test_indices = shuffled[:test_set_size]\n",
    "    train_indices = shuffled[test_set_size:]\n",
    "    return data.iloc[train_indices], data.iloc[test_indices]"
   ]
  },
  {
   "cell_type": "code",
   "execution_count": 23,
   "id": "d0d51c5d",
   "metadata": {},
   "outputs": [],
   "source": [
    "# train_set, test_set = split_train_test(housing_rent, 0.2)"
   ]
  },
  {
   "cell_type": "markdown",
   "id": "deb2b764",
   "metadata": {},
   "source": [
    "Spliting using sklearn"
   ]
  },
  {
   "cell_type": "code",
   "execution_count": 24,
   "id": "d487030c",
   "metadata": {},
   "outputs": [],
   "source": [
    "from sklearn.model_selection import train_test_split\n",
    "\n",
    "train_set, test_set = train_test_split(housing, test_size= 0.2, random_state= 0)"
   ]
  },
  {
   "cell_type": "code",
   "execution_count": 25,
   "id": "c9a17664",
   "metadata": {},
   "outputs": [
    {
     "name": "stdout",
     "output_type": "stream",
     "text": [
      "Rows in Train set: 5782\n",
      "Rows in Test set: 1446\n"
     ]
    }
   ],
   "source": [
    "print(f\"Rows in Train set: {len(train_set)}\\nRows in Test set: {len(test_set)}\")"
   ]
  },
  {
   "cell_type": "markdown",
   "id": "c3557008",
   "metadata": {},
   "source": [
    "#### Looking for Correlations"
   ]
  },
  {
   "cell_type": "code",
   "execution_count": 26,
   "id": "950190d4",
   "metadata": {},
   "outputs": [],
   "source": [
    "corr_matrex = housing.corr()"
   ]
  },
  {
   "cell_type": "code",
   "execution_count": 27,
   "id": "90676f07",
   "metadata": {},
   "outputs": [
    {
     "data": {
      "text/plain": [
       "Price            1.000000\n",
       "Size             0.731795\n",
       "Condo            0.700361\n",
       "Parking          0.640743\n",
       "Suites           0.588329\n",
       "Toilets          0.583531\n",
       "Rooms            0.390951\n",
       "Swimming Pool    0.206884\n",
       "Furnished        0.171859\n",
       "Elevator         0.031860\n",
       "New             -0.008477\n",
       "Name: Price, dtype: float64"
      ]
     },
     "execution_count": 27,
     "metadata": {},
     "output_type": "execute_result"
    }
   ],
   "source": [
    "corr_matrex['Price'].sort_values(ascending= False)"
   ]
  },
  {
   "cell_type": "code",
   "execution_count": 28,
   "id": "d44224c4",
   "metadata": {},
   "outputs": [
    {
     "data": {
      "text/plain": [
       "array([[<AxesSubplot:xlabel='Price', ylabel='Price'>,\n",
       "        <AxesSubplot:xlabel='Size', ylabel='Price'>,\n",
       "        <AxesSubplot:xlabel='Condo', ylabel='Price'>,\n",
       "        <AxesSubplot:xlabel='New', ylabel='Price'>],\n",
       "       [<AxesSubplot:xlabel='Price', ylabel='Size'>,\n",
       "        <AxesSubplot:xlabel='Size', ylabel='Size'>,\n",
       "        <AxesSubplot:xlabel='Condo', ylabel='Size'>,\n",
       "        <AxesSubplot:xlabel='New', ylabel='Size'>],\n",
       "       [<AxesSubplot:xlabel='Price', ylabel='Condo'>,\n",
       "        <AxesSubplot:xlabel='Size', ylabel='Condo'>,\n",
       "        <AxesSubplot:xlabel='Condo', ylabel='Condo'>,\n",
       "        <AxesSubplot:xlabel='New', ylabel='Condo'>],\n",
       "       [<AxesSubplot:xlabel='Price', ylabel='New'>,\n",
       "        <AxesSubplot:xlabel='Size', ylabel='New'>,\n",
       "        <AxesSubplot:xlabel='Condo', ylabel='New'>,\n",
       "        <AxesSubplot:xlabel='New', ylabel='New'>]], dtype=object)"
      ]
     },
     "execution_count": 28,
     "metadata": {},
     "output_type": "execute_result"
    },
    {
     "data": {
      "image/png": "[encoded data removed]",
      "text/plain": [
       "<Figure size 864x576 with 16 Axes>"
      ]
     },
     "metadata": {
      "needs_background": "light"
     },
     "output_type": "display_data"
    }
   ],
   "source": [
    "from pandas.plotting import scatter_matrix\n",
    "\n",
    "plotting_attributes = [\"Price\", \"Size\", \"Condo\", \"New\"]\n",
    "scatter_matrix(housing[plotting_attributes], figsize= (12, 8))"
   ]
  },
  {
   "cell_type": "markdown",
   "id": "5e463cff",
   "metadata": {},
   "source": [
    "#### Spliting label and other attributs"
   ]
  },
  {
   "cell_type": "code",
   "execution_count": 29,
   "id": "cde2cb7a",
   "metadata": {},
   "outputs": [],
   "source": [
    "housing_tr = housing.drop(\"Price\", axis= 1)\n",
    "housing_labels = housing['Price'].copy()"
   ]
  },
  {
   "cell_type": "markdown",
   "id": "0b233bc7",
   "metadata": {},
   "source": [
    "#### Creating a pipeline\n",
    "Using Standerd Scaler "
   ]
  },
  {
   "cell_type": "code",
   "execution_count": 30,
   "id": "5fd50015",
   "metadata": {},
   "outputs": [],
   "source": [
    "from sklearn.pipeline import Pipeline\n",
    "from sklearn.preprocessing import StandardScaler\n",
    "from sklearn.impute import SimpleImputer\n",
    "\n",
    "my_pipeline = Pipeline([\n",
    "    ('imputer', SimpleImputer(strategy= \"median\")),\n",
    "    ('std_scaler', StandardScaler()),\n",
    "])"
   ]
  },
  {
   "cell_type": "code",
   "execution_count": 31,
   "id": "672adc6e",
   "metadata": {},
   "outputs": [],
   "source": [
    "housing_tr_num = my_pipeline.fit_transform(housing_tr)"
   ]
  },
  {
   "cell_type": "code",
   "execution_count": 32,
   "id": "065fb452",
   "metadata": {},
   "outputs": [
    {
     "data": {
      "text/plain": [
       "(7228, 10)"
      ]
     },
     "execution_count": 32,
     "metadata": {},
     "output_type": "execute_result"
    }
   ],
   "source": [
    "housing_tr_num.shape"
   ]
  },
  {
   "cell_type": "markdown",
   "id": "91abff74",
   "metadata": {},
   "source": [
    "#### Selecting model for prediction"
   ]
  },
  {
   "cell_type": "code",
   "execution_count": 33,
   "id": "c01316ae",
   "metadata": {},
   "outputs": [
    {
     "data": {
      "text/html": [
       "<style>#sk-container-id-1 {color: black;background-color: white;}#sk-container-id-1 pre{padding: 0;}#sk-container-id-1 div.sk-toggleable {background-color: white;}#sk-container-id-1 label.sk-toggleable__label {cursor: pointer;display: block;width: 100%;margin-bottom: 0;padding: 0.3em;box-sizing: border-box;text-align: center;}#sk-container-id-1 label.sk-toggleable__label-arrow:before {content: \"▸\";float: left;margin-right: 0.25em;color: #696969;}#sk-container-id-1 label.sk-toggleable__label-arrow:hover:before {color: black;}#sk-container-id-1 div.sk-estimator:hover label.sk-toggleable__label-arrow:before {color: black;}#sk-container-id-1 div.sk-toggleable__content {max-height: 0;max-width: 0;overflow: hidden;text-align: left;background-color: #f0f8ff;}#sk-container-id-1 div.sk-toggleable__content pre {margin: 0.2em;color: black;border-radius: 0.25em;background-color: #f0f8ff;}#sk-container-id-1 input.sk-toggleable__control:checked~div.sk-toggleable__content {max-height: 200px;max-width: 100%;overflow: auto;}#sk-container-id-1 input.sk-toggleable__control:checked~label.sk-toggleable__label-arrow:before {content: \"▾\";}#sk-container-id-1 div.sk-estimator input.sk-toggleable__control:checked~label.sk-toggleable__label {background-color: #d4ebff;}#sk-container-id-1 div.sk-label input.sk-toggleable__control:checked~label.sk-toggleable__label {background-color: #d4ebff;}#sk-container-id-1 input.sk-hidden--visually {border: 0;clip: rect(1px 1px 1px 1px);clip: rect(1px, 1px, 1px, 1px);height: 1px;margin: -1px;overflow: hidden;padding: 0;position: absolute;width: 1px;}#sk-container-id-1 div.sk-estimator {font-family: monospace;background-color: #f0f8ff;border: 1px dotted black;border-radius: 0.25em;box-sizing: border-box;margin-bottom: 0.5em;}#sk-container-id-1 div.sk-estimator:hover {background-color: #d4ebff;}#sk-container-id-1 div.sk-parallel-item::after {content: \"\";width: 100%;border-bottom: 1px solid gray;flex-grow: 1;}#sk-container-id-1 div.sk-label:hover label.sk-toggleable__label {background-color: #d4ebff;}#sk-container-id-1 div.sk-serial::before {content: \"\";position: absolute;border-left: 1px solid gray;box-sizing: border-box;top: 0;bottom: 0;left: 50%;z-index: 0;}#sk-container-id-1 div.sk-serial {display: flex;flex-direction: column;align-items: center;background-color: white;padding-right: 0.2em;padding-left: 0.2em;position: relative;}#sk-container-id-1 div.sk-item {position: relative;z-index: 1;}#sk-container-id-1 div.sk-parallel {display: flex;align-items: stretch;justify-content: center;background-color: white;position: relative;}#sk-container-id-1 div.sk-item::before, #sk-container-id-1 div.sk-parallel-item::before {content: \"\";position: absolute;border-left: 1px solid gray;box-sizing: border-box;top: 0;bottom: 0;left: 50%;z-index: -1;}#sk-container-id-1 div.sk-parallel-item {display: flex;flex-direction: column;z-index: 1;position: relative;background-color: white;}#sk-container-id-1 div.sk-parallel-item:first-child::after {align-self: flex-end;width: 50%;}#sk-container-id-1 div.sk-parallel-item:last-child::after {align-self: flex-start;width: 50%;}#sk-container-id-1 div.sk-parallel-item:only-child::after {width: 0;}#sk-container-id-1 div.sk-dashed-wrapped {border: 1px dashed gray;margin: 0 0.4em 0.5em 0.4em;box-sizing: border-box;padding-bottom: 0.4em;background-color: white;}#sk-container-id-1 div.sk-label label {font-family: monospace;font-weight: bold;display: inline-block;line-height: 1.2em;}#sk-container-id-1 div.sk-label-container {text-align: center;}#sk-container-id-1 div.sk-container {/* jupyter's `normalize.less` sets `[hidden] { display: none; }` but bootstrap.min.css set `[hidden] { display: none !important; }` so we also need the `!important` here to be able to override the default hidden behavior on the sphinx rendered scikit-learn.org. See: https://github.com/scikit-learn/scikit-learn/issues/21755 */display: inline-block !important;position: relative;}#sk-container-id-1 div.sk-text-repr-fallback {display: none;}</style><div id=\"sk-container-id-1\" class=\"sk-top-container\"><div class=\"sk-text-repr-fallback\"><pre>LinearRegression()</pre><b>In a Jupyter environment, please rerun this cell to show the HTML representation or trust the notebook. <br />On GitHub, the HTML representation is unable to render, please try loading this page with nbviewer.org.</b></div><div class=\"sk-container\" hidden><div class=\"sk-item\"><div class=\"sk-estimator sk-toggleable\"><input class=\"sk-toggleable__control sk-hidden--visually\" id=\"sk-estimator-id-1\" type=\"checkbox\" checked><label for=\"sk-estimator-id-1\" class=\"sk-toggleable__label sk-toggleable__label-arrow\">LinearRegression</label><div class=\"sk-toggleable__content\"><pre>LinearRegression()</pre></div></div></div></div></div>"
      ],
      "text/plain": [
       "LinearRegression()"
      ]
     },
     "execution_count": 33,
     "metadata": {},
     "output_type": "execute_result"
    }
   ],
   "source": [
    "from sklearn.linear_model import LinearRegression\n",
    "from sklearn.tree import DecisionTreeRegressor\n",
    "from sklearn.ensemble import RandomForestRegressor\n",
    "\n",
    "model = LinearRegression()\n",
    "# model = DecisionTreeRegressor()\n",
    "# model = RandomForestRegressor()\n",
    "\n",
    "model.fit(housing_tr_num, housing_labels)"
   ]
  },
  {
   "cell_type": "code",
   "execution_count": 34,
   "id": "f1ec3670",
   "metadata": {},
   "outputs": [],
   "source": [
    "some_data = housing_tr.iloc[:5]\n",
    "some_labels = housing_labels.iloc[:5]"
   ]
  },
  {
   "cell_type": "code",
   "execution_count": 35,
   "id": "999f49cc",
   "metadata": {},
   "outputs": [],
   "source": [
    "prepard_data = my_pipeline.transform(some_data)"
   ]
  },
  {
   "cell_type": "code",
   "execution_count": 36,
   "id": "c66a98cf",
   "metadata": {},
   "outputs": [
    {
     "data": {
      "text/plain": [
       "array([1053.20357794,  933.23641413,  975.62126599, 1063.80453128,\n",
       "       1381.65696992])"
      ]
     },
     "execution_count": 36,
     "metadata": {},
     "output_type": "execute_result"
    }
   ],
   "source": [
    "model.predict(prepard_data)"
   ]
  },
  {
   "cell_type": "code",
   "execution_count": 37,
   "id": "c45c232e",
   "metadata": {},
   "outputs": [
    {
     "data": {
      "text/plain": [
       "[930, 1000, 1000, 1000, 1300]"
      ]
     },
     "execution_count": 37,
     "metadata": {},
     "output_type": "execute_result"
    }
   ],
   "source": [
    "list(some_labels)"
   ]
  },
  {
   "cell_type": "markdown",
   "id": "0413139b",
   "metadata": {},
   "source": [
    "#### Evaluating the model"
   ]
  },
  {
   "cell_type": "code",
   "execution_count": 38,
   "id": "6e7e42b8",
   "metadata": {},
   "outputs": [],
   "source": [
    "from sklearn.metrics import mean_squared_error\n",
    "\n",
    "housing_predictions = model.predict(housing_tr_num)\n",
    "\n",
    "mse = mean_squared_error(housing_labels, housing_predictions)\n",
    "\n",
    "rmse = np.sqrt(mse)"
   ]
  },
  {
   "cell_type": "code",
   "execution_count": 39,
   "id": "9a520992",
   "metadata": {},
   "outputs": [
    {
     "data": {
      "text/plain": [
       "2179.7909404952597"
      ]
     },
     "execution_count": 39,
     "metadata": {},
     "output_type": "execute_result"
    }
   ],
   "source": [
    "rmse"
   ]
  },
  {
   "cell_type": "markdown",
   "id": "3d0c5277",
   "metadata": {},
   "source": [
    "Using Cross Validation"
   ]
  },
  {
   "cell_type": "code",
   "execution_count": 40,
   "id": "bbd3e932",
   "metadata": {},
   "outputs": [],
   "source": [
    "from sklearn.model_selection import cross_val_score\n",
    "\n",
    "scores = cross_val_score(model, housing_tr_num, housing_labels, scoring= 'neg_mean_squared_error', cv= 10)\n",
    "\n",
    "rmse_scores = np.sqrt(-scores)"
   ]
  },
  {
   "cell_type": "code",
   "execution_count": 41,
   "id": "cb2c23ff",
   "metadata": {},
   "outputs": [
    {
     "data": {
      "text/plain": [
       "array([1973.05047989, 2637.73277325, 1660.08071632, 1654.71676024,\n",
       "       1970.71869212, 3528.42711223, 1870.40054387, 1607.36804927,\n",
       "       1761.54887708, 2615.08585723])"
      ]
     },
     "execution_count": 41,
     "metadata": {},
     "output_type": "execute_result"
    }
   ],
   "source": [
    "rmse_scores"
   ]
  },
  {
   "cell_type": "code",
   "execution_count": 42,
   "id": "e4c9bfb2",
   "metadata": {},
   "outputs": [],
   "source": [
    "def print_scores(scores):\n",
    "    print(f\"Scores: {scores}\\nMean: {scores.mean()}\\nStandard deviation: {scores.std()}\")"
   ]
  },
  {
   "cell_type": "code",
   "execution_count": 43,
   "id": "13601d8f",
   "metadata": {},
   "outputs": [
    {
     "name": "stdout",
     "output_type": "stream",
     "text": [
      "Scores: [1973.05047989 2637.73277325 1660.08071632 1654.71676024 1970.71869212\n",
      " 3528.42711223 1870.40054387 1607.36804927 1761.54887708 2615.08585723]\n",
      "Mean: 2127.9129861488464\n",
      "Standard deviation: 584.950419390992\n"
     ]
    }
   ],
   "source": [
    "print_scores(rmse_scores)"
   ]
  },
  {
   "cell_type": "markdown",
   "id": "a4f36a01",
   "metadata": {},
   "source": [
    "#### Saving the model"
   ]
  },
  {
   "cell_type": "code",
   "execution_count": 44,
   "id": "24b56019",
   "metadata": {},
   "outputs": [
    {
     "data": {
      "text/plain": [
       "['Prediction.joblib']"
      ]
     },
     "execution_count": 44,
     "metadata": {},
     "output_type": "execute_result"
    }
   ],
   "source": [
    "from joblib import dump, load\n",
    "dump(model, \"Prediction.joblib\")"
   ]
  },
  {
   "cell_type": "markdown",
   "id": "423f6a8c",
   "metadata": {},
   "source": [
    "#### Testing the model"
   ]
  },
  {
   "cell_type": "code",
   "execution_count": 45,
   "id": "3c56ba21",
   "metadata": {},
   "outputs": [],
   "source": [
    "X_test = test_set.drop('Price', axis=1)\n",
    "Y_test = test_set[\"Price\"].copy()\n",
    "X_test_prepared = my_pipeline.transform(X_test)\n",
    "\n",
    "final_predictions = model.predict(X_test_prepared)\n",
    "final_mse = mean_squared_error(Y_test, final_predictions)\n",
    "final_rmse = np.sqrt(final_mse)"
   ]
  },
  {
   "cell_type": "code",
   "execution_count": 46,
   "id": "25d6eaf3",
   "metadata": {},
   "outputs": [
    {
     "data": {
      "text/plain": [
       "2137.8671749060527"
      ]
     },
     "execution_count": 46,
     "metadata": {},
     "output_type": "execute_result"
    }
   ],
   "source": [
    "final_rmse"
   ]
  },
  {
   "cell_type": "code",
   "execution_count": 47,
   "id": "9bf364bd",
   "metadata": {},
   "outputs": [
    {
     "data": {
      "text/plain": [
       "array([-0.72429485, -0.66413699, -0.36696596, -0.1057781 , -0.02769583,\n",
       "       -0.5084679 , -0.65435178, -0.45727457, -0.97620985, -0.02882351])"
      ]
     },
     "execution_count": 47,
     "metadata": {},
     "output_type": "execute_result"
    }
   ],
   "source": [
    "prepard_data[0]"
   ]
  }
 ],
 "metadata": {
  "kernelspec": {
   "display_name": "Python 3 (ipykernel)",
   "language": "python",
   "name": "python3"
  },
  "language_info": {
   "codemirror_mode": {
    "name": "ipython",
    "version": 3
   },
   "file_extension": ".py",
   "mimetype": "text/x-python",
   "name": "python",
   "nbconvert_exporter": "python",
   "pygments_lexer": "ipython3",
   "version": "3.8.10"
  }
 },
 "nbformat": 4,
 "nbformat_minor": 5
}
