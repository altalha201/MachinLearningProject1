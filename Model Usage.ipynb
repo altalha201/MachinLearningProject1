{
 "cells": [
  {
   "cell_type": "code",
   "execution_count": 1,
   "id": "4946b98a",
   "metadata": {},
   "outputs": [],
   "source": [
    "import numpy as np\n",
    "from joblib import dump, load\n",
    "model = load(\"Prediction.joblib\")"
   ]
  },
  {
   "cell_type": "code",
   "execution_count": 2,
   "id": "56671b5f",
   "metadata": {},
   "outputs": [
    {
     "data": {
      "text/plain": [
       "array([1053.20357467])"
      ]
     },
     "execution_count": 2,
     "metadata": {},
     "output_type": "execute_result"
    }
   ],
   "source": [
    "Input = np.array([[-0.72429485, -0.66413699, -0.36696596, -0.1057781 , -0.02769583,\n",
    "       -0.5084679 , -0.65435178, -0.45727457, -0.97620985, -0.02882351]])\n",
    "\n",
    "model.predict(Input)"
   ]
  }
 ],
 "metadata": {
  "kernelspec": {
   "display_name": "Python 3 (ipykernel)",
   "language": "python",
   "name": "python3"
  },
  "language_info": {
   "codemirror_mode": {
    "name": "ipython",
    "version": 3
   },
   "file_extension": ".py",
   "mimetype": "text/x-python",
   "name": "python",
   "nbconvert_exporter": "python",
   "pygments_lexer": "ipython3",
   "version": "3.8.10"
  }
 },
 "nbformat": 4,
 "nbformat_minor": 5
}
